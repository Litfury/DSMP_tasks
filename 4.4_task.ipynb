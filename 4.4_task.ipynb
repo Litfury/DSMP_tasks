{
  "nbformat": 4,
  "nbformat_minor": 0,
  "metadata": {
    "colab": {
      "provenance": [],
      "include_colab_link": true
    },
    "kernelspec": {
      "name": "python3",
      "display_name": "Python 3"
    },
    "language_info": {
      "name": "python"
    }
  },
  "cells": [
    {
      "cell_type": "markdown",
      "metadata": {
        "id": "view-in-github",
        "colab_type": "text"
      },
      "source": [
        "<a href=\"https://colab.research.google.com/github/Litfury/DSMP_tasks/blob/main/4.4_task.ipynb\" target=\"_parent\"><img src=\"https://colab.research.google.com/assets/colab-badge.svg\" alt=\"Open In Colab\"/></a>"
      ]
    },
    {
      "cell_type": "markdown",
      "source": [
        "###`Problem 1:` Combine two lists index-wise(columns wise)\n",
        "\n",
        "Write a program to add two lists index-wise. Create a new list that contains the 0th index item from both the list, then the 1st index item, and so on till the last element. any leftover items will get added at the end of the new list.\n",
        "\n",
        "`Given List:`\n",
        "```\n",
        "list1 = [\"M\", \"na\", \"i\", \"Kh\"]\n",
        "list2 = [\"y\", \"me\", \"s\", \"an\"]\n",
        "```\n",
        "\n",
        "`Output:`\n",
        "```\n",
        "[['M','y'], ['na', me'], ['i', 's'], ['Kh', 'an']]\n",
        "```"
      ],
      "metadata": {
        "id": "kLZ_vCeE0lsM"
      }
    },
    {
      "cell_type": "code",
      "source": [
        "# Write code here\n",
        "list1 = [\"M\", \"na\", \"i\", \"Kh\"]\n",
        "list2 = [\"y\", \"me\", \"s\", \"an\"]\n",
        "\n",
        "x = [[list1[x],list2[x]] for x in range(len(list1))]\n",
        "print(x)"
      ],
      "metadata": {
        "id": "cDO3Yv6p0nnG",
        "colab": {
          "base_uri": "https://localhost:8080/"
        },
        "outputId": "c969ff5c-8ad7-4764-9d0e-cd75aa7fb89b"
      },
      "execution_count": null,
      "outputs": [
        {
          "output_type": "stream",
          "name": "stdout",
          "text": [
            "[['M', 'y'], ['na', 'me'], ['i', 's'], ['Kh', 'an']]\n"
          ]
        }
      ]
    },
    {
      "cell_type": "markdown",
      "source": [
        "### `Problem 2:` Add new item to list after a specified item\n",
        "Write a program to add item 7000 after 6000 in the following Python List\n",
        "```\n",
        "list1 = [10, 20, [300, 400, [5000, 6000], 500], 30, 40]\n",
        "```\n",
        "`Output:`\n",
        "```\n",
        "[10, 20, [300, 400, [5000, 6000, 7000], 500], 30, 40]\n",
        "```"
      ],
      "metadata": {
        "id": "bnRwRgf_0qLu"
      }
    },
    {
      "cell_type": "code",
      "source": [
        "# Write code here\n",
        "list1 = [10, 20, [300, 400, [5000, 6000], 500], 30, 40]\n",
        "\n",
        "list1[2][2].append(7000)\n",
        "print(list1)"
      ],
      "metadata": {
        "id": "yW5lLPns00q9",
        "colab": {
          "base_uri": "https://localhost:8080/"
        },
        "outputId": "7af37f23-bf49-4d43-cb68-fe2f729a3c9e"
      },
      "execution_count": null,
      "outputs": [
        {
          "output_type": "stream",
          "name": "stdout",
          "text": [
            "[10, 20, [300, 400, [5000, 6000, 7000], 500], 30, 40]\n"
          ]
        }
      ]
    },
    {
      "cell_type": "markdown",
      "source": [
        "###`Problem 3:` Update no of items available\n",
        "\n",
        "Suppose you are given a list of candy and another list of same size representing no of items of respective candy.\n",
        "\n",
        "i.e -  \n",
        "```\n",
        "candy_list = ['Jelly Belly','Kit Kat','Double Bubble','Milky Way','Three Musketeers']\n",
        "no_of_items = [10,20,34,74,32]\n",
        "```\n",
        "\n",
        "Write a program to show no. of items of each candy type.\n",
        "\n",
        "`Output:`\n",
        "\n",
        "```\n",
        "Jelly Belly-10\n",
        "Kit Kat-20\n",
        "Double Bubble-34\n",
        "Milky Way-74\n",
        "Three Musketeers-32\n",
        "\n",
        "```"
      ],
      "metadata": {
        "id": "w7fC8oHk02fH"
      }
    },
    {
      "cell_type": "code",
      "source": [
        "# Write code here\n",
        "\n",
        "candy_list = ['Jelly Belly','Kit Kat','Double Bubble','Milky Way','Three Musketeers']\n",
        "no_of_items = [10,20,34,74,32]\n",
        "\n",
        "for i in range(len(candy_list)):\n",
        "  print(candy_list[i],no_of_items[i],sep='-')"
      ],
      "metadata": {
        "id": "gg5JEX1a09q8",
        "colab": {
          "base_uri": "https://localhost:8080/"
        },
        "outputId": "3f6ee55a-f9ec-45c8-9a4f-a329aa7ee28d"
      },
      "execution_count": null,
      "outputs": [
        {
          "output_type": "stream",
          "name": "stdout",
          "text": [
            "Jelly Belly-10\n",
            "Kit Kat-20\n",
            "Double Bubble-34\n",
            "Milky Way-74\n",
            "Three Musketeers-32\n"
          ]
        }
      ]
    },
    {
      "cell_type": "markdown",
      "source": [
        "###`Problem 4:` Running Sum on list\n",
        "Write a program to print a list after performing running sum on it.\n",
        "\n",
        "i.e:\n",
        "\n",
        "`Input:`\n",
        "```\n",
        "list1 = [1,2,3,4,5,6]\n",
        "```\n",
        "`Output:`\n",
        "```\n",
        "[1,3,6,10,15,21]\n",
        "```"
      ],
      "metadata": {
        "id": "mFGZAvnB1D3N"
      }
    },
    {
      "cell_type": "code",
      "source": [
        "# Write code here\n",
        "list1 = [1,2,3,4,5,6]\n",
        "op = []\n",
        "sum = 0\n",
        "for i in range(len(list1)):\n",
        "  sum += list1[i]\n",
        "  op.append(sum)\n",
        "print(op)"
      ],
      "metadata": {
        "id": "8LPS6DaD1FTs",
        "colab": {
          "base_uri": "https://localhost:8080/"
        },
        "outputId": "722c534d-ac64-40da-8fa9-ed8c24a2535a"
      },
      "execution_count": null,
      "outputs": [
        {
          "output_type": "stream",
          "name": "stdout",
          "text": [
            "[1, 3, 6, 10, 15, 21]\n"
          ]
        }
      ]
    },
    {
      "cell_type": "markdown",
      "source": [
        "###`Problem 5:` You are given a list of integers. You are asked to make a list by running through elements of the list by adding all elements greater and itself.\n",
        "\n",
        "i.e. Say given list is `[2,4,6,10,1]`\n",
        "resultant list will be `[22,20,10,23]`.\n",
        "\n",
        "For 1st element `2` ->> these are greater `(4+6+10)` values and `2` itself so on adding becomes `22`.\n",
        "\n",
        "For 2nd element `4` ->> greater elements are `(6, 10)` and `4` itself, so on adding `20`\n",
        "\n",
        "like wise for all other elememts.\n",
        "\n",
        "`[2,4,6,10,1]`-->`[22,20,16,10,23]`\n",
        "\n",
        "\n"
      ],
      "metadata": {
        "id": "2ztcZ-EW1HEU"
      }
    },
    {
      "cell_type": "code",
      "source": [
        "# Write code here\n",
        "\n",
        "list1 = [2,4,6,10,1]\n",
        "sum = 0\n",
        "op = []\n",
        "for i in range(len(list1)):\n",
        "  for j in range(len(list1)):\n",
        "    if(list1[i] < list1[j]):\n",
        "      sum += list1[j]\n",
        "  op.append(sum+list1[i])\n",
        "  sum = 0\n",
        "\n",
        "print(op)"
      ],
      "metadata": {
        "id": "UJuWqzj31UD2",
        "colab": {
          "base_uri": "https://localhost:8080/"
        },
        "outputId": "75659098-9f6e-47f7-9d03-95b1acbc447b"
      },
      "execution_count": null,
      "outputs": [
        {
          "output_type": "stream",
          "name": "stdout",
          "text": [
            "[22, 20, 16, 10, 23]\n"
          ]
        }
      ]
    },
    {
      "cell_type": "markdown",
      "source": [
        "###`Problem 6:` Find list of common unique items from two list. and show in increasing order\n",
        "\n",
        "`Input`\n",
        "\n",
        "```\n",
        "num1 = [23,45,67,78,89,34]\n",
        "num2 = [34,89,55,56,39,67]\n",
        "```\n",
        "\n",
        "`Output:`\n",
        "```\n",
        "[34, 67, 89]\n",
        "```\n"
      ],
      "metadata": {
        "id": "c9H6tYTx1ZYo"
      }
    },
    {
      "cell_type": "code",
      "source": [
        "# Write code here\n",
        "num1 = [23,45,67,78,89,34]\n",
        "num2 = [34,89,55,56,39,67]\n",
        "\n",
        "op = []\n",
        "\n",
        "for i in num1:\n",
        "  if(i in num2):\n",
        "    op.append(i)\n",
        "\n",
        "op.sort()\n",
        "print(op)"
      ],
      "metadata": {
        "id": "dDxdi7eE1e1W",
        "colab": {
          "base_uri": "https://localhost:8080/"
        },
        "outputId": "424733ac-f928-450b-c8b2-a161d593e547"
      },
      "execution_count": null,
      "outputs": [
        {
          "output_type": "stream",
          "name": "stdout",
          "text": [
            "[34, 67, 89]\n"
          ]
        }
      ]
    },
    {
      "cell_type": "markdown",
      "source": [
        "###`Problem 7:` Sort a list of alphanumeric strings based on product value of numeric character in it. If in any string there is no numeric character take it's product value as 1.\n",
        "\n",
        "`Input:`\n",
        "```\n",
        "['1ac21', '23fg', '456', '098d','1','kls']\n",
        "```\n",
        "\n",
        "`Output:`\n",
        "```\n",
        "['456', '23fg', '1ac21', '1', 'kls', '098d']\n",
        "\n",
        "```"
      ],
      "metadata": {
        "id": "i3Izok2i1gRD"
      }
    },
    {
      "cell_type": "code",
      "source": [
        "# Write code here\n",
        "def swap(arr,p,q,other_arr):\n",
        "  arr[p],arr[q]=arr[q],arr[p]\n",
        "  if(other_arr != None):\n",
        "    other_arr[p],other_arr[q] = other_arr[q],other_arr[p]\n",
        "\n",
        "def arrange(arr,p,q,other_arr):\n",
        "  to_sort = arr[p]\n",
        "  i = p\n",
        "\n",
        "  for j in range(q-p):\n",
        "    if(arr[j+p+1] >= to_sort):\n",
        "      i += 1\n",
        "      swap(arr,i,j+p+1,other_arr)\n",
        "\n",
        "  swap(arr,p,i,other_arr)\n",
        "  return i\n",
        "\n",
        "def quick_sort(arr,p,q,other_arr):\n",
        "  if(p < q):\n",
        "\n",
        "    mid = arrange(arr,p,q,other_arr)\n",
        "\n",
        "    quick_sort(arr,p,mid-1,other_arr)\n",
        "    quick_sort(arr,mid+1,q,other_arr)\n",
        "\n",
        "\n",
        "l2 = ['1ac21', '23fg', '456', '098d','1','kls']\n",
        "l1 = []\n",
        "\n",
        "flag = False\n",
        "for i in l2:\n",
        "  for j in i:\n",
        "    if(j.isnumeric()):\n",
        "      l1.append(int(j))\n",
        "      flag = True\n",
        "      break\n",
        "  if(flag == False):\n",
        "    l1.append(1)\n",
        "  else:\n",
        "    flag = False\n",
        "\n",
        "quick_sort(l1,0,len(l1)-1,l2)\n",
        "\n",
        "print(l2)"
      ],
      "metadata": {
        "id": "eiXSanG11oq6",
        "colab": {
          "base_uri": "https://localhost:8080/"
        },
        "outputId": "df7dbf9b-d5c1-4233-dafa-bb494d948e12"
      },
      "execution_count": null,
      "outputs": [
        {
          "output_type": "stream",
          "name": "stdout",
          "text": [
            "['456', '23fg', '1', 'kls', '1ac21', '098d']\n"
          ]
        }
      ]
    },
    {
      "cell_type": "markdown",
      "source": [
        "###`Problem 7:` Sort a list of alphanumeric strings based on product value of numeric character in it. If in any string there is no numeric character take it's product value as 1.\n",
        "\n",
        "`Input:`\n",
        "```\n",
        "['1ac21', '23fg', '456', '098d','1','kls']\n",
        "```\n",
        "\n",
        "`Output:`\n",
        "```\n",
        "['456', '23fg', '1ac21', '1', 'kls', '098d']\n",
        "\n",
        "```"
      ],
      "metadata": {
        "id": "NjOwI8RDYv7g"
      }
    },
    {
      "cell_type": "markdown",
      "source": [
        "###`Problem 7:` Sort a list of alphanumeric strings based on product value of numeric character in it. If in any string there is no numeric character take it's product value as 1.\n",
        "\n",
        "`Input:`\n",
        "```\n",
        "['1ac21', '23fg', '456', '098d','1','kls']\n",
        "```\n",
        "\n",
        "`Output:`\n",
        "```\n",
        "['456', '23fg', '1ac21', '1', 'kls', '098d']\n",
        "\n",
        "```"
      ],
      "metadata": {
        "id": "j1CnwQsuYvee"
      }
    },
    {
      "cell_type": "markdown",
      "source": [
        "###`Problem 8:` Split String of list on K character.\n",
        "\n",
        "**Example :**\n",
        "\n",
        "Input:\n",
        "```bash\n",
        "['CampusX is a channel', 'for data-science', 'aspirants.']\n",
        "```\n",
        "\n",
        "Output:\n",
        "```bash\n",
        "['CampusX', 'is', 'a', 'channel', 'for', 'data-science', 'aspirants.']\n",
        "```"
      ],
      "metadata": {
        "id": "McMaNSpB1zJB"
      }
    },
    {
      "cell_type": "code",
      "source": [
        "# Write code here\n",
        "x = ['CampusX is a channel', 'for data-science', 'aspirants.']\n",
        "op = []\n",
        "for i in x:\n",
        "\n",
        "  #op.extend(i.split(' ')) #alternative syntax\n",
        "  op = op + i.split(' ')\n",
        "\n",
        "print(op)"
      ],
      "metadata": {
        "id": "rLg6AUhf14wI",
        "colab": {
          "base_uri": "https://localhost:8080/"
        },
        "outputId": "cf066faa-115a-43f4-92a3-eb024e6f401b"
      },
      "execution_count": null,
      "outputs": [
        {
          "output_type": "stream",
          "name": "stdout",
          "text": [
            "['CampusX', 'is', 'a', 'channel', 'for', 'data-science', 'aspirants.']\n"
          ]
        }
      ]
    },
    {
      "cell_type": "markdown",
      "source": [
        "### `Problem 9:` Convert Character Matrix to single String using string comprehension.\n",
        "\n",
        "**Example 1:**\n",
        "\n",
        "Input:\n",
        "```bash\n",
        "[['c', 'a', 'm', 'p', 'u', 'x'], ['i', 's'], ['b', 'e', 's', 't'], ['c', 'h', 'a', 'n', 'n', 'e', 'l']]\n",
        "```\n",
        "\n",
        "Output:\n",
        "```bash\n",
        "campux is best channel\n",
        "```"
      ],
      "metadata": {
        "id": "ebqIC0Xa16dG"
      }
    },
    {
      "cell_type": "code",
      "source": [
        "# Write code here\n",
        "l1 = [['c', 'a', 'm', 'p', 'u', 'x'], ['i', 's'], ['b', 'e', 's', 't'], ['c', 'h', 'a', 'n', 'n', 'e', 'l']]\n",
        "op = ''\n",
        "for i in l1:\n",
        "  op += ''.join(i) + ' '\n",
        "\n",
        "print(op)"
      ],
      "metadata": {
        "id": "KLKxzyZf2BLr",
        "colab": {
          "base_uri": "https://localhost:8080/"
        },
        "outputId": "8ec3a850-8e98-4705-8c4c-403e453e90d1"
      },
      "execution_count": null,
      "outputs": [
        {
          "output_type": "stream",
          "name": "stdout",
          "text": [
            "campux is best channel \n"
          ]
        }
      ]
    },
    {
      "cell_type": "markdown",
      "source": [
        "### `Problem 10:` Add Space between Potential Words.\n",
        "\n",
        "**Example:**\n",
        "\n",
        "Input:\n",
        "\n",
        "```bash\n",
        "['campusxIs', 'bestFor', 'dataScientist']\n",
        "```\n",
        "\n",
        "Output:\n",
        "```bash\n",
        "['campusx Is', 'best For', 'data Scientist']\n",
        "```"
      ],
      "metadata": {
        "id": "0v1Z3Snp2DAm"
      }
    },
    {
      "cell_type": "code",
      "source": [
        "# Code here\n",
        "\n",
        "x = ['campusxIs', 'bestFor', 'dataScientist']\n",
        "\n",
        "index = 0\n",
        "for i in range(len(x)):\n",
        "  for j in x[i]:\n",
        "    if(j.isupper()):\n",
        "      break\n",
        "    index += 1\n",
        "\n",
        "  x[i] = x[i][:index] + \" \" + x[i][index:]\n",
        "  index = 0\n",
        "\n",
        "print(x)"
      ],
      "metadata": {
        "id": "pltvqSXa2IxP",
        "colab": {
          "base_uri": "https://localhost:8080/"
        },
        "outputId": "e5374666-e969-4e78-e476-497f3f788ed9"
      },
      "execution_count": null,
      "outputs": [
        {
          "output_type": "stream",
          "name": "stdout",
          "text": [
            "['campusx Is', 'best For', 'data Scientist']\n"
          ]
        }
      ]
    },
    {
      "cell_type": "markdown",
      "source": [
        "### `Problem 11:` Write a program that can perform union operation on 2 lists\n",
        "\n",
        "**Example:**\n",
        "\n",
        "Input:\n",
        "\n",
        "```bash\n",
        "[1,2,3,4,5,1]\n",
        "[2,3,5,7,8]\n",
        "```\n",
        "\n",
        "Output:\n",
        "```bash\n",
        "[1,2,3,4,5,7,8]\n",
        "```"
      ],
      "metadata": {
        "id": "tnmBk1M52KXW"
      }
    },
    {
      "cell_type": "code",
      "source": [
        "# Write code here\n",
        "a = [1,2,3,4,5,1]\n",
        "b = [2,3,5,7,8]\n",
        "\n",
        "op = []\n",
        "\n",
        "for i in a:\n",
        "  if(i not in op):\n",
        "    op.append(i)\n",
        "\n",
        "for i in b:\n",
        "  if(i not in op):\n",
        "    op.append(i)\n",
        "\n",
        "print(op)"
      ],
      "metadata": {
        "id": "u0AgIToU2-Ht",
        "colab": {
          "base_uri": "https://localhost:8080/"
        },
        "outputId": "0b7e5e91-b7de-418e-e56a-ca685a8286d7"
      },
      "execution_count": null,
      "outputs": [
        {
          "output_type": "stream",
          "name": "stdout",
          "text": [
            "[1, 2, 3, 4, 5, 7, 8]\n"
          ]
        }
      ]
    },
    {
      "cell_type": "markdown",
      "source": [
        "### `Problem 12:` Write a program that can find the max number of each row of a matrix\n",
        "\n",
        "**Example:**\n",
        "\n",
        "Input:\n",
        "\n",
        "```bash\n",
        "[[1,2,3],[4,5,6],[7,8,9]]\n",
        "```\n",
        "\n",
        "Output:\n",
        "```bash\n",
        "[3,6,9]\n",
        "```"
      ],
      "metadata": {
        "id": "Yt8x67Ch3Ow1"
      }
    },
    {
      "cell_type": "code",
      "source": [
        "# Write code here\n",
        "l1 = [[1,2,3],[4,5,6],[7,8,9]]\n",
        "op = []\n",
        "max = None\n",
        "for i in l1:\n",
        "  for j in i:\n",
        "    if(max == None or max < j):\n",
        "      max = j\n",
        "  op.append(max)\n",
        "  max = None\n",
        "\n",
        "print(op)"
      ],
      "metadata": {
        "id": "7QopAaAI3noh",
        "colab": {
          "base_uri": "https://localhost:8080/"
        },
        "outputId": "5840fc3b-1fd6-44b5-a35d-4b4f092c4902"
      },
      "execution_count": null,
      "outputs": [
        {
          "output_type": "stream",
          "name": "stdout",
          "text": [
            "[3, 6, 9]\n"
          ]
        }
      ]
    },
    {
      "cell_type": "markdown",
      "source": [
        "### `Problem 13:` Write a list comprehension to print the following matrix\n",
        "\n",
        "[[0, 1, 2], [3, 4, 5], [6, 7, 8]]"
      ],
      "metadata": {
        "id": "DBZlUmnt3pGT"
      }
    },
    {
      "cell_type": "code",
      "source": [
        "# Write code here\n",
        "m = 3\n",
        "[[i+m*j for i in range(m)] for j in range(m)]\n"
      ],
      "metadata": {
        "id": "Ip4e8M-S356h",
        "colab": {
          "base_uri": "https://localhost:8080/"
        },
        "outputId": "30a5078a-5796-4d17-af2d-93694ea03c0a"
      },
      "execution_count": null,
      "outputs": [
        {
          "output_type": "execute_result",
          "data": {
            "text/plain": [
              "[[0, 1, 2], [3, 4, 5], [6, 7, 8]]"
            ]
          },
          "metadata": {},
          "execution_count": 38
        }
      ]
    },
    {
      "cell_type": "markdown",
      "source": [
        "### `Problem 14:` Write a list comprehension that can transpose a given matrix\n",
        "\n",
        "matrix = [<br>\n",
        "  [1,2,3],<br>\n",
        "          [4,5,6],<br>\n",
        "          [7,8,9]<br>]<br>\n",
        "\n",
        "[1, 4, 7]<br>\n",
        "[2, 5, 8]<br>\n",
        "[3, 6, 9]<br>"
      ],
      "metadata": {
        "id": "j3vTuFC737kG"
      }
    },
    {
      "cell_type": "code",
      "source": [
        "# Write code here\n",
        "\n",
        "matrix = [\n",
        "[1,2,3],\n",
        "[4,5,6],\n",
        "[7,8,9]\n",
        "]\n",
        "\n",
        "matrix_tp = [[row[i] for row in matrix]for i in range(len(matrix[0]))]\n",
        "print(matrix_tp)"
      ],
      "metadata": {
        "id": "CcBNu0gk4XsR",
        "colab": {
          "base_uri": "https://localhost:8080/"
        },
        "outputId": "14558c74-97bd-4f94-ba5d-84f17b2a807d"
      },
      "execution_count": null,
      "outputs": [
        {
          "output_type": "stream",
          "name": "stdout",
          "text": [
            "[[1, 4, 7], [2, 5, 8], [3, 6, 9]]\n"
          ]
        }
      ]
    },
    {
      "cell_type": "markdown",
      "source": [
        "### `Problem 15:` Write a list comprehension that can flatten a nested list\n",
        "\n",
        "Input<br>\n",
        "matrix = [<br>\n",
        "  [1,2,3],<br>\n",
        "          [4,5,6],<br>\n",
        "          [7,8,9]<br>]<br>\n",
        "\n",
        "Output:<br>\n",
        "[1, 2, 3, 4, 5, 6, 7, 8, 9]"
      ],
      "metadata": {
        "id": "wRkSWFb74eOt"
      }
    },
    {
      "cell_type": "code",
      "source": [
        "# Write code here\n",
        "matrix = [[1,2,3],[4,5,6],[7,8,9]]\n",
        "\n",
        "x = [matrix[i][j] for i in range(len(matrix)) for j in range(len(matrix[0]))]\n",
        "print(x)"
      ],
      "metadata": {
        "id": "jZGQ5el25HFr",
        "colab": {
          "base_uri": "https://localhost:8080/"
        },
        "outputId": "0106798a-8d88-43b4-a42d-0c22cf9203a7"
      },
      "execution_count": null,
      "outputs": [
        {
          "output_type": "stream",
          "name": "stdout",
          "text": [
            "[1, 2, 3, 4, 5, 6, 7, 8, 9]\n"
          ]
        }
      ]
    }
  ]
}