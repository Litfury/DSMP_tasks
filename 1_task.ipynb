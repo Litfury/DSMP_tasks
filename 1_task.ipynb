{
  "cells": [
    {
      "cell_type": "markdown",
      "metadata": {
        "id": "view-in-github",
        "colab_type": "text"
      },
      "source": [
        "<a href=\"https://colab.research.google.com/github/Litfury/DSMP_tasks/blob/main/1_task.ipynb\" target=\"_parent\"><img src=\"https://colab.research.google.com/assets/colab-badge.svg\" alt=\"Open In Colab\"/></a>"
      ]
    },
    {
      "cell_type": "markdown",
      "metadata": {
        "id": "A05OG15VqOPF"
      },
      "source": [
        "# Task : Session 1\n",
        "Solve these questions own your own and try to test yourself what you have learned in the session.\n",
        "\n",
        "Happy Learning!"
      ]
    },
    {
      "cell_type": "markdown",
      "metadata": {
        "id": "2doIXf8bqe9_"
      },
      "source": [
        "### Q1 :- Print the given strings as per stated format.\n",
        "\n",
        "**Given strings**:\n",
        "```\n",
        "\"Data\" \"Science\" \"Mentorship\" \"Program\"\n",
        "\"By\" \"CampusX\"\n",
        "```\n",
        "**Output**:\n",
        "```\n",
        "Data-Science-Mentorship-Program-started-By-CampusX\n",
        "```\n",
        "\n",
        "Concept- [Seperator and End]"
      ]
    },
    {
      "cell_type": "code",
      "execution_count": null,
      "metadata": {
        "id": "-em6d3KErDtp",
        "outputId": "cc3ba47a-aa8d-494f-f953-d3e42f4ec28a"
      },
      "outputs": [
        {
          "name": "stdout",
          "output_type": "stream",
          "text": [
            "Data-Science-Mentorship-Program-started-By-CampusX\n"
          ]
        }
      ],
      "source": [
        "# Write your code here\n",
        "print(\"Data-Science-Mentorship-Program-started-By-CampusX\")\n"
      ]
    },
    {
      "cell_type": "markdown",
      "metadata": {
        "id": "1KUpN7ZTrC3_"
      },
      "source": [
        "### Q2:- Write a program that will convert celsius value to fahrenheit."
      ]
    },
    {
      "cell_type": "code",
      "execution_count": null,
      "metadata": {
        "id": "yxKYhYQiqWfj",
        "outputId": "474a0d67-f002-4ac3-8a3e-56df34a7f20d"
      },
      "outputs": [
        {
          "name": "stdout",
          "output_type": "stream",
          "text": [
            "farenheit :  71.6\n"
          ]
        }
      ],
      "source": [
        "# Write your code here\n",
        "cel = int(input(\"Input Celsius : \"))\n",
        "faren = cel*(9/5) + 32\n",
        "print (\"farenheit : \",faren)"
      ]
    },
    {
      "cell_type": "markdown",
      "metadata": {
        "id": "RLrOBBJurLB2"
      },
      "source": [
        "### Q3:- Take 2 numbers as input from the user.Write a program to swap the numbers without using any special python syntax."
      ]
    },
    {
      "cell_type": "code",
      "execution_count": null,
      "metadata": {
        "id": "yPn7if0TrJ4F"
      },
      "outputs": [],
      "source": [
        "# Write your code here\n",
        "num1 = int(input(\"enter number 1 : \"))\n",
        "num2 = int(input(\"enter number 2 : \"))\n",
        "temp = num1\n",
        "num1 = num2\n",
        "num2 = temp\n"
      ]
    },
    {
      "cell_type": "markdown",
      "metadata": {
        "id": "waLCP1bjr7ML"
      },
      "source": [
        "### Q4:- Write a program to find the euclidean distance between two coordinates.Take both the coordinates from the user as input."
      ]
    },
    {
      "cell_type": "code",
      "execution_count": null,
      "metadata": {
        "id": "Pl1Sv-xnrxnH",
        "outputId": "5869655b-9254-4915-c846-b9fde9697b62"
      },
      "outputs": [
        {
          "name": "stdout",
          "output_type": "stream",
          "text": [
            "13.0\n"
          ]
        }
      ],
      "source": [
        "# Write your code here\n",
        "import math\n",
        "X1 = int(input(\"enter 1st X co-ordinate : \"))\n",
        "Y1 = int(input(\"enter 1st Y co-ordinate : \"))\n",
        "X2 = int(input(\"enter 2nd X co-ordinate: \"))\n",
        "Y2 = int(input(\"enter 2nd Y co-ordinate: \"))\n",
        "distX =  math.sqrt((X2-X1)*(X2-X1) + (Y2-Y1)*(Y2-Y1))\n",
        "print(distX)"
      ]
    },
    {
      "cell_type": "markdown",
      "metadata": {
        "id": "VLrhg-FRsHjR"
      },
      "source": [
        "### Q5:- Write a program to find the simple interest when the value of principle,rate of interest and time period is provided by the user.\n"
      ]
    },
    {
      "cell_type": "code",
      "execution_count": null,
      "metadata": {
        "id": "s40DlReZsTmY",
        "colab": {
          "base_uri": "https://localhost:8080/"
        },
        "outputId": "51cba05b-81c7-4df6-dbb2-2d087b6a4a00"
      },
      "outputs": [
        {
          "output_type": "stream",
          "name": "stdout",
          "text": [
            "enter the value : 200\n",
            "enter the years : 4\n",
            "enter the rate of interest : 9\n",
            "compound = 282.31632200000007 , simple = 272.0\n"
          ]
        }
      ],
      "source": [
        "# Write your code here\n",
        "val = int(input(\"enter the value : \"))\n",
        "time = int(input(\"enter the years : \"))\n",
        "interest = int(input(\"enter the rate of interest : \"))\n",
        "\n",
        "simple = val * (1 + (time*interest)/100)\n",
        "compound = val * ((1 + interest/100)**time)\n",
        "\n",
        "print(\"compound =\",compound,',',\"simple =\",simple)"
      ]
    },
    {
      "cell_type": "markdown",
      "metadata": {
        "id": "LMy0BTUktYKa"
      },
      "source": [
        "### Q6:- Write a program that will tell the number of dogs and chicken are there when the user will provide the value of total heads and legs.\n",
        "\n",
        "For example:\n",
        "Input:\n",
        "heads -> 4\n",
        "legs -> 12\n",
        "<br>\n",
        "Output:\n",
        "dogs -> 2\n",
        "chicken -> 2\n",
        "\n",
        "\n",
        "\n"
      ]
    },
    {
      "cell_type": "code",
      "execution_count": null,
      "metadata": {
        "id": "XSBvJoA4tXaG",
        "colab": {
          "base_uri": "https://localhost:8080/"
        },
        "outputId": "c835a2d3-5ff3-4931-f9ce-e1c1b2f307d4"
      },
      "outputs": [
        {
          "output_type": "stream",
          "name": "stdout",
          "text": [
            "enter the number of heads : 4\n",
            "enter the number of legs : 12\n",
            "dogs 2.0 , chickens 2.0\n"
          ]
        }
      ],
      "source": [
        "# Write your code here\n",
        "\n",
        "heads = int(input(\"enter the number of heads : \"))\n",
        "legs = int(input(\"enter the number of legs : \"))\n",
        "dogs = legs/2 - heads\n",
        "chickens = 2*heads - legs/2\n",
        "\n",
        "print(\"dogs\",dogs,\",\",\"chickens\",chickens)"
      ]
    },
    {
      "cell_type": "markdown",
      "metadata": {
        "id": "gJ7C5kZYt4BP"
      },
      "source": [
        "### Q7:- Write a program to find the sum of squares of first n natural numbers where n will be provided by the user."
      ]
    },
    {
      "cell_type": "code",
      "execution_count": null,
      "metadata": {
        "id": "_tHsmEHzt2nX",
        "colab": {
          "base_uri": "https://localhost:8080/"
        },
        "outputId": "1c08fa28-9445-454e-a70d-c9b2678089fc"
      },
      "outputs": [
        {
          "output_type": "stream",
          "name": "stdout",
          "text": [
            "enter the n : 4\n",
            "30\n"
          ]
        }
      ],
      "source": [
        "# Write your code here\n",
        "\n",
        "inp = int(input(\"enter the n : \"))\n",
        "sum = 0\n",
        "for i in range(inp+1):\n",
        "  sum += i*i\n",
        "print(sum)"
      ]
    },
    {
      "cell_type": "markdown",
      "metadata": {
        "id": "FHrMM7g-yG1h"
      },
      "source": [
        "### Q8:- Given the first 2 terms of an Arithmetic Series.Find the Nth term of the series. Assume all inputs are provided by the user."
      ]
    },
    {
      "cell_type": "code",
      "execution_count": null,
      "metadata": {
        "id": "go4_kmZmyVSx",
        "colab": {
          "base_uri": "https://localhost:8080/"
        },
        "outputId": "4b79a4b7-ee18-4627-8ca7-c9a88a055b5f"
      },
      "outputs": [
        {
          "output_type": "stream",
          "name": "stdout",
          "text": [
            "enter the 1st val: 1\n",
            "enter the 2nd val: 2\n",
            "enter the value of n: 7\n",
            "7\n"
          ]
        }
      ],
      "source": [
        "# Write your code here\n",
        "inp1 = int(input(\"enter the 1st val: \"))\n",
        "inp2 = int(input(\"enter the 2nd val: \"))\n",
        "nth = int(input(\"enter the value of n: \"))\n",
        "d = inp2 - inp1\n",
        "print(inp1 + (nth-1)*d)"
      ]
    },
    {
      "cell_type": "markdown",
      "metadata": {
        "id": "QgyRX_es1oum"
      },
      "source": [
        "### Q9:- Given 2 fractions, find the sum of those 2 fractions.Take the numerator and denominator values of the fractions from the user."
      ]
    },
    {
      "cell_type": "code",
      "execution_count": null,
      "metadata": {
        "id": "X05xqFS1yW16",
        "colab": {
          "base_uri": "https://localhost:8080/"
        },
        "outputId": "abf64755-8606-4573-fa3b-ec0adab3f04f"
      },
      "outputs": [
        {
          "output_type": "stream",
          "name": "stdout",
          "text": [
            "enter for 1st fraction\n",
            "numerator : 1\n",
            "denominator : 4\n",
            "enter for 2nd fraction\n",
            "numerator : 1\n",
            "denominator : 2\n",
            "6 / 8\n"
          ]
        }
      ],
      "source": [
        "# Write your code here\n",
        "\n",
        "print(\"enter for 1st fraction\")\n",
        "num1 = int(input(\"numerator : \"))\n",
        "den1 = int(input(\"denominator : \"))\n",
        "\n",
        "print(\"enter for 2nd fraction\")\n",
        "num2 = int(input(\"numerator : \"))\n",
        "den2 = int(input(\"denominator : \"))\n",
        "\n",
        "num = num1*den2 + num2*den1\n",
        "den = den1*den2\n",
        "\n",
        "print(num,'/',den)"
      ]
    },
    {
      "cell_type": "markdown",
      "metadata": {
        "id": "eaql38ln13u7"
      },
      "source": [
        "### Q10:- Given the height, width and breadth of a milk tank, you have to find out how many glasses of milk can be obtained? Assume all the inputs are provided by the user.\n",
        "\n",
        "\n",
        "\n",
        "Input:<br>\n",
        "Dimensions of the milk tank<br>\n",
        "H = 20cm, L = 20cm, B = 20cm\n",
        "<br><br>\n",
        "Dimensions of the glass<br>\n",
        "h = 3cm, r = 1cm"
      ]
    },
    {
      "cell_type": "code",
      "execution_count": null,
      "metadata": {
        "id": "FePZqno74eWv",
        "colab": {
          "base_uri": "https://localhost:8080/"
        },
        "outputId": "b9e6e368-78e9-460c-fdfd-9aff9de7c641"
      },
      "outputs": [
        {
          "output_type": "stream",
          "name": "stdout",
          "text": [
            "enter for tank\n",
            "height : 10\n",
            "length : 10\n",
            "breadth : 10\n",
            "enter for glass\n",
            "height : 1\n",
            "length : 2\n",
            "79.0\n"
          ]
        }
      ],
      "source": [
        "# Write your code here\n",
        "from math import pi as p\n",
        "\n",
        "print(\"enter for tank\")\n",
        "h_t = int(input(\"height : \"))\n",
        "l_t = int(input(\"length : \"))\n",
        "b_t = int(input(\"breadth : \"))\n",
        "\n",
        "print(\"enter for glass\")\n",
        "h_g = int(input(\"height : \"))\n",
        "r_g = int(input(\"raidus : \"))\n",
        "\n",
        "vol_t = h_t * l_t * b_t\n",
        "vol_g = h_g * r_g * r_g * p\n",
        "\n",
        "print(vol_t//vol_g)"
      ]
    },
    {
      "cell_type": "code",
      "source": [],
      "metadata": {
        "id": "SLOglV_UAgyn"
      },
      "execution_count": null,
      "outputs": []
    }
  ],
  "metadata": {
    "colab": {
      "provenance": [],
      "include_colab_link": true
    },
    "kernelspec": {
      "display_name": "Python 3",
      "name": "python3"
    },
    "language_info": {
      "codemirror_mode": {
        "name": "ipython",
        "version": 3
      },
      "file_extension": ".py",
      "mimetype": "text/x-python",
      "name": "python",
      "nbconvert_exporter": "python",
      "pygments_lexer": "ipython3",
      "version": "3.10.0"
    }
  },
  "nbformat": 4,
  "nbformat_minor": 0
}