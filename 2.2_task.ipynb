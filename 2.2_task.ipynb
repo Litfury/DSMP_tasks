{
  "nbformat": 4,
  "nbformat_minor": 0,
  "metadata": {
    "colab": {
      "provenance": [],
      "include_colab_link": true
    },
    "kernelspec": {
      "name": "python3",
      "display_name": "Python 3"
    },
    "language_info": {
      "name": "python"
    }
  },
  "cells": [
    {
      "cell_type": "markdown",
      "metadata": {
        "id": "view-in-github",
        "colab_type": "text"
      },
      "source": [
        "<a href=\"https://colab.research.google.com/github/Litfury/DSMP_tasks/blob/main/2.2_task.ipynb\" target=\"_parent\"><img src=\"https://colab.research.google.com/assets/colab-badge.svg\" alt=\"Open In Colab\"/></a>"
      ]
    },
    {
      "cell_type": "markdown",
      "source": [
        "### `Problem 1`: Write a program that will give you in hand monthly salary after deduction on CTC - HRA(10%), DA(5%), PF(3%) and taxes deduction as below:\n",
        "\n",
        "> Salary(Lakhs) : Tax(%)\n",
        "\n",
        "*   Below 5 : 0%\n",
        "*   5-10 : 10%\n",
        "*   10-20 : 20%\n",
        "*   aboove 20 : 30%"
      ],
      "metadata": {
        "id": "w6RlOAXV2PWh"
      }
    },
    {
      "cell_type": "code",
      "source": [
        "# Write code here\n",
        "inp = int(input(\"enter the CTC (in lakhs) (generally CTC is given on an annual basis) : \"))\n",
        "inp = inp - 0.18 * inp\n",
        "\n",
        "if(inp <= 5):\n",
        "  print((inp*100000)/12)\n",
        "elif(inp <= 10):\n",
        "  print((inp*0.9*100000)/12)\n",
        "elif(inp <= 20):\n",
        "  print((inp*0.8*100000)/12)\n",
        "else:\n",
        "  print((inp*0.7*100000)/12)"
      ],
      "metadata": {
        "id": "7tMHvKYO2etI",
        "colab": {
          "base_uri": "https://localhost:8080/"
        },
        "outputId": "3e6fb87b-1a42-4cc6-ab6a-019204d0016a"
      },
      "execution_count": null,
      "outputs": [
        {
          "output_type": "stream",
          "name": "stdout",
          "text": [
            "enter the CTC (in lakhs) (generally CTC is given on an annual basis) : 4\n",
            "27333.333333333332\n"
          ]
        }
      ]
    },
    {
      "cell_type": "markdown",
      "source": [
        "### `Problem 2`: Write a program that take a user input of three angles and will find out whether it can form a triangle or not."
      ],
      "metadata": {
        "id": "tYzCGqwl2hfN"
      }
    },
    {
      "cell_type": "code",
      "source": [
        "# Write code here\n",
        "\n",
        "a1 = int(input(\"enter the value of angle 1 = \"))\n",
        "a2 = int(input(\"enter the value of angle 2 = \"))\n",
        "a3 = int(input(\"enter the value of angle 3 = \"))\n",
        "\n",
        "if(a1 + a2 + a3 == 180):\n",
        "  print(\"these angles can form a triangle\")\n",
        "else:\n",
        "  print(\"these angles can't form a triangle\")"
      ],
      "metadata": {
        "id": "FYEqln-I2kxV",
        "colab": {
          "base_uri": "https://localhost:8080/"
        },
        "outputId": "d5a82587-2b77-41cb-f4b6-98e99464476c"
      },
      "execution_count": null,
      "outputs": [
        {
          "output_type": "stream",
          "name": "stdout",
          "text": [
            "enter the value of angle 1 = 100\n",
            "enter the value of angle 2 = 20\n",
            "enter the value of angle 3 = 60\n",
            "these angles can form a triangle\n"
          ]
        }
      ]
    },
    {
      "cell_type": "markdown",
      "source": [
        "### `Problem 3`: Write a program that will take user input of cost price and selling price and determines whether its a loss or a profit."
      ],
      "metadata": {
        "id": "5vEpPh8C2pE4"
      }
    },
    {
      "cell_type": "code",
      "source": [
        "# Write code here\n",
        "\n",
        "CP = int(input(\"enter the cost price : \"))\n",
        "SP = int(input(\"enter the selling price : \"))\n",
        "\n",
        "if(CP > SP):\n",
        "  print(\"it's a loss\")\n",
        "elif(CP < SP):\n",
        "  print(\"it's a profit\")\n",
        "else:\n",
        "  print(\"neither profit nor loss\")"
      ],
      "metadata": {
        "id": "jDwBXlkO2sfl",
        "colab": {
          "base_uri": "https://localhost:8080/"
        },
        "outputId": "c6d893bb-ead3-4f9d-b039-871254318f36"
      },
      "execution_count": null,
      "outputs": [
        {
          "output_type": "stream",
          "name": "stdout",
          "text": [
            "enter the cost price : 10\n",
            "enter the selling price : 20\n",
            "it's a profit\n"
          ]
        }
      ]
    },
    {
      "cell_type": "markdown",
      "source": [
        "### `Problem 4`: Write a menu-driven program -\n",
        "1. cm to ft\n",
        "2. km to miles\n",
        "3. USD to INR\n",
        "4. exit"
      ],
      "metadata": {
        "id": "J_FG_cJW2ugT"
      }
    },
    {
      "cell_type": "code",
      "source": [
        "# Write code here\n",
        "\n",
        "\n",
        "while(True):\n",
        "  print()\n",
        "  print(\"1. cm to ft\")\n",
        "  print(\"2. km to miles\")\n",
        "  print(\"3. USD to inr\")\n",
        "  print(\"4. exit\")\n",
        "  inp = input(\"enter the number : \")\n",
        "\n",
        "  if(inp == '1'):\n",
        "    val = int(input(\"enter the value in cm : \"))\n",
        "    print(\"{0} cm is equivalent to {1} ft\".format(val,val*0.0328084))\n",
        "\n",
        "  elif(inp == '2'):\n",
        "    val = int(input(\"enter the value in km : \"))\n",
        "    print(\"{0} km is equivalent to {1} miles\".format(val,val*0.621371))\n",
        "\n",
        "  elif(inp == '3'):\n",
        "    val = int(input(\"enter the value in USD : \"))\n",
        "    print(\"{0} USD is equivalent to {1} INR\".format(val,val*86.86))\n",
        "\n",
        "  elif(inp == '4'):\n",
        "    break\n",
        "\n",
        "  else:\n",
        "    print(\"aby saale, kripiya karke sahi number daale\")\n",
        "\n"
      ],
      "metadata": {
        "id": "yBHhaCGQ2zpD",
        "colab": {
          "base_uri": "https://localhost:8080/"
        },
        "outputId": "cbf6afd5-72c0-4d74-90a7-4fe0223cc0c3"
      },
      "execution_count": null,
      "outputs": [
        {
          "name": "stdout",
          "output_type": "stream",
          "text": [
            "\n",
            "1. cm to ft\n",
            "2. km to miles\n",
            "3. USD to inr\n",
            "4. exit\n",
            "enter the number : 1\n",
            "enter the value in cm : 100\n",
            "100 cm is equivalent to 3.28084 ft\n",
            "\n",
            "1. cm to ft\n",
            "2. km to miles\n",
            "3. USD to inr\n",
            "4. exit\n",
            "enter the number : 3\n",
            "enter the value in USD : 1000\n",
            "1000 USD is equivalent to 86860.0 INR\n",
            "\n",
            "1. cm to ft\n",
            "2. km to miles\n",
            "3. USD to inr\n",
            "4. exit\n",
            "enter the number : 3\n",
            "enter the value in USD : 6000\n",
            "6000 USD is equivalent to 521160.0 INR\n",
            "\n",
            "1. cm to ft\n",
            "2. km to miles\n",
            "3. USD to inr\n",
            "4. exit\n",
            "enter the number : 89\n",
            "aby saale, kripiya karke sahi number daale\n",
            "\n",
            "1. cm to ft\n",
            "2. km to miles\n",
            "3. USD to inr\n",
            "4. exit\n",
            "enter the number : 4\n"
          ]
        }
      ]
    },
    {
      "cell_type": "markdown",
      "source": [
        "### `Problem 5` - Exercise 12: Display Fibonacci series up to 10 terms.\n",
        "\n",
        "*Note: The Fibonacci Sequence is a series of numbers. The next number is found by adding up the two numbers before it. The first two numbers are 0 and 1. For example, 0, 1, 1, 2, 3, 5, 8, 13, 21. The next number in this series above is 13+21 = 34*"
      ],
      "metadata": {
        "id": "LJJ30_Yw27ZU"
      }
    },
    {
      "cell_type": "code",
      "source": [
        "# Write code here\n",
        "n = int(input(\"enter the value of n : \"))\n",
        "num1 = 0\n",
        "num2 = 1\n",
        "for i in range(n):\n",
        "  temp = num1 + num2\n",
        "  num1,num2 = num2,temp\n",
        "  print(temp)"
      ],
      "metadata": {
        "id": "ae_1rpe52-5R",
        "colab": {
          "base_uri": "https://localhost:8080/"
        },
        "outputId": "577bf2c1-5a67-4f62-f555-8d9648978fbc"
      },
      "execution_count": null,
      "outputs": [
        {
          "output_type": "stream",
          "name": "stdout",
          "text": [
            "enter the value of n : 10\n",
            "1\n",
            "2\n",
            "3\n",
            "5\n",
            "8\n",
            "13\n",
            "21\n",
            "34\n",
            "55\n",
            "89\n"
          ]
        }
      ]
    },
    {
      "cell_type": "markdown",
      "source": [
        "### `Problem 6` - Find the factorial of a given number.\n",
        "\n",
        "Write a program to use the loop to find the factorial of a given number.\n",
        "\n",
        "The factorial (symbol: `!`) means to multiply all whole numbers from the chosen number down to 1.\n",
        "\n",
        "For example: calculate the factorial of 5\n",
        "\n",
        "```bash\n",
        "5! = 5 × 4 × 3 × 2 × 1 = 120\n",
        "```\n",
        "\n",
        "Output:\n",
        "\n",
        "```bash\n",
        "120\n",
        "```"
      ],
      "metadata": {
        "id": "pk_I_S4m3PT5"
      }
    },
    {
      "cell_type": "code",
      "source": [
        "# Write code here\n",
        "n = int(input(\"enter the value of n : \"))\n",
        "fact = 1\n",
        "for i in range(1,n+1):\n",
        "  fact *= i\n",
        "\n",
        "print(fact)"
      ],
      "metadata": {
        "id": "lzXxHegx3Rkc",
        "colab": {
          "base_uri": "https://localhost:8080/"
        },
        "outputId": "a2c0352d-fc94-4c06-c00d-4953af9ef36c"
      },
      "execution_count": null,
      "outputs": [
        {
          "output_type": "stream",
          "name": "stdout",
          "text": [
            "enter the value of n : 5\n",
            "120\n"
          ]
        }
      ]
    },
    {
      "cell_type": "markdown",
      "source": [
        "### `Problem 7` - Reverse a given integer number.\n",
        "\n",
        "Example:\n",
        "\n",
        "`Input:`\n",
        "\n",
        "```bash\n",
        "76542\n",
        "```\n",
        "\n",
        "`Output:`\n",
        "\n",
        "```bash\n",
        "24567\n",
        "```"
      ],
      "metadata": {
        "id": "-17IOi-g3UpU"
      }
    },
    {
      "cell_type": "code",
      "source": [
        "# Write code here\n",
        "\n",
        "n = int(input(\"enter the value of n : \"))\n",
        "rev = 0\n",
        "\n",
        "while(n != 0):\n",
        "  rev = rev*10 + n%10\n",
        "  n = n//10\n",
        "\n",
        "print(rev)"
      ],
      "metadata": {
        "id": "wJwLpKCr3aVA",
        "colab": {
          "base_uri": "https://localhost:8080/"
        },
        "outputId": "373d5993-d11e-4cec-8265-31cdb198173f"
      },
      "execution_count": null,
      "outputs": [
        {
          "output_type": "stream",
          "name": "stdout",
          "text": [
            "enter the value of n : 87453\n",
            "35478\n"
          ]
        }
      ]
    },
    {
      "cell_type": "markdown",
      "source": [
        "### `Problem 8`: Take a user input as integer N. Find out the sum from 1 to N. If any number if divisible by 5, then skip that number. And if the sum is greater than 300, don't need to calculate the sum further more. Print the final result. And don't use for loop to solve this problem.\n",
        "\n",
        "**Example 1:**\n",
        "\n",
        "`Input:`\n",
        "\n",
        "```bash\n",
        "30\n",
        "```\n",
        "\n",
        "`Output:`\n",
        "\n",
        "```bash\n",
        "276\n",
        "```"
      ],
      "metadata": {
        "id": "-t8PJQaY3sHf"
      }
    },
    {
      "cell_type": "code",
      "source": [
        "# Write code here\n",
        "n = int(input(\"enter the value of n : \"))\n",
        "\n",
        "if(n >= 26):\n",
        "  print(276)\n",
        "else:\n",
        "  x = n//5\n",
        "  print(int(((n*(n+1))/2) - ((x)*(x+1)*5)/2))\n"
      ],
      "metadata": {
        "id": "GZB6mGMP3ujT",
        "colab": {
          "base_uri": "https://localhost:8080/"
        },
        "outputId": "6e24aec0-b3bd-4b5c-89e9-d44df9ab5c69"
      },
      "execution_count": 41,
      "outputs": [
        {
          "output_type": "stream",
          "name": "stdout",
          "text": [
            "enter the value of n : 25\n",
            "250\n"
          ]
        }
      ]
    },
    {
      "cell_type": "markdown",
      "source": [
        "### `Problem 9`: Write a program that keeps on accepting a number from the user until the user enters Zero. Display the sum and average of all the numbers."
      ],
      "metadata": {
        "id": "Q7ggImeA3xm4"
      }
    },
    {
      "cell_type": "code",
      "source": [
        "# Write code here\n",
        "\n",
        "L = []\n",
        "\n",
        "while(True):\n",
        "  x = int(input(\"enter the number : \"))\n",
        "  if(x == 0):\n",
        "    break\n",
        "  else:\n",
        "    L.append(x)\n",
        "\n",
        "if(L == []):\n",
        "  print(\"Sum\",0)\n",
        "  print(\"Avg\",0)\n",
        "else:\n",
        "  sum = 0\n",
        "  for i in L:\n",
        "    sum += i\n",
        "\n",
        "  print(\"Sum\",sum)\n",
        "  print(\"Avg\",sum/(len(L)))"
      ],
      "metadata": {
        "id": "t_YDSZDe4Kdo",
        "colab": {
          "base_uri": "https://localhost:8080/"
        },
        "outputId": "ed4f375f-3cfa-4b3c-c612-a61de262e840"
      },
      "execution_count": null,
      "outputs": [
        {
          "output_type": "stream",
          "name": "stdout",
          "text": [
            "enter the number : 10\n",
            "enter the number : 20\n",
            "enter the number : 0\n",
            "Sum 30\n",
            "Avg 15.0\n"
          ]
        }
      ]
    },
    {
      "cell_type": "markdown",
      "source": [
        "###`Problem 9`: Write a program which will find all such numbers which are divisible by 7 but are not a multiple of 5, between 2000 and 3200 (both included). The numbers obtained should be printed in a comma-separated sequence on a single line."
      ],
      "metadata": {
        "id": "6EhvEMvm4R7s"
      }
    },
    {
      "cell_type": "code",
      "source": [
        "# Write code here\n",
        "\n",
        "def div_by_7(x):\n",
        "  if(x%7 == 0):\n",
        "    return True\n",
        "  return False\n",
        "\n",
        "def not_div_by_5(x):\n",
        "  if(x%5 != 0):\n",
        "    return True\n",
        "  return False\n",
        "\n",
        "for i in range(2000,3201):\n",
        "  if(div_by_7(i) and not_div_by_5(i)):\n",
        "    print(i,end =\", \")"
      ],
      "metadata": {
        "id": "d6RgP1B34T6c",
        "colab": {
          "base_uri": "https://localhost:8080/"
        },
        "outputId": "77fb2697-e4ce-4576-d9b9-290c0491642b"
      },
      "execution_count": 28,
      "outputs": [
        {
          "output_type": "stream",
          "name": "stdout",
          "text": [
            "2002, 2009, 2016, 2023, 2037, 2044, 2051, 2058, 2072, 2079, 2086, 2093, 2107, 2114, 2121, 2128, 2142, 2149, 2156, 2163, 2177, 2184, 2191, 2198, 2212, 2219, 2226, 2233, 2247, 2254, 2261, 2268, 2282, 2289, 2296, 2303, 2317, 2324, 2331, 2338, 2352, 2359, 2366, 2373, 2387, 2394, 2401, 2408, 2422, 2429, 2436, 2443, 2457, 2464, 2471, 2478, 2492, 2499, 2506, 2513, 2527, 2534, 2541, 2548, 2562, 2569, 2576, 2583, 2597, 2604, 2611, 2618, 2632, 2639, 2646, 2653, 2667, 2674, 2681, 2688, 2702, 2709, 2716, 2723, 2737, 2744, 2751, 2758, 2772, 2779, 2786, 2793, 2807, 2814, 2821, 2828, 2842, 2849, 2856, 2863, 2877, 2884, 2891, 2898, 2912, 2919, 2926, 2933, 2947, 2954, 2961, 2968, 2982, 2989, 2996, 3003, 3017, 3024, 3031, 3038, 3052, 3059, 3066, 3073, 3087, 3094, 3101, 3108, 3122, 3129, 3136, 3143, 3157, 3164, 3171, 3178, 3192, 3199, "
          ]
        }
      ]
    },
    {
      "cell_type": "markdown",
      "source": [
        "###`Problem 10`: Write a program, which will find all such numbers between 1000 and 3000 (both included) such that each digit of the number is an even number. The numbers obtained should be printed in a space-separated sequence on a single line.\n",
        "\n"
      ],
      "metadata": {
        "id": "tYvmRR-G4Vp4"
      }
    },
    {
      "cell_type": "code",
      "source": [
        "# Write code here\n",
        "\n",
        "def func(x):\n",
        "  flag = True\n",
        "  while(x != 0):\n",
        "    if((x%10)%2 != 0):\n",
        "      flag = False\n",
        "      break\n",
        "    x = x//10\n",
        "  return flag\n",
        "\n",
        "for i in range(1000,3001):\n",
        "  if(func(i)):\n",
        "    print(i,end = ' ')"
      ],
      "metadata": {
        "id": "k6Gs1kIf4k19",
        "colab": {
          "base_uri": "https://localhost:8080/"
        },
        "outputId": "3f13a48c-eddc-495e-bdb2-111f5971b99c"
      },
      "execution_count": null,
      "outputs": [
        {
          "output_type": "stream",
          "name": "stdout",
          "text": [
            "2000 2002 2004 2006 2008 2020 2022 2024 2026 2028 2040 2042 2044 2046 2048 2060 2062 2064 2066 2068 2080 2082 2084 2086 2088 2200 2202 2204 2206 2208 2220 2222 2224 2226 2228 2240 2242 2244 2246 2248 2260 2262 2264 2266 2268 2280 2282 2284 2286 2288 2400 2402 2404 2406 2408 2420 2422 2424 2426 2428 2440 2442 2444 2446 2448 2460 2462 2464 2466 2468 2480 2482 2484 2486 2488 2600 2602 2604 2606 2608 2620 2622 2624 2626 2628 2640 2642 2644 2646 2648 2660 2662 2664 2666 2668 2680 2682 2684 2686 2688 2800 2802 2804 2806 2808 2820 2822 2824 2826 2828 2840 2842 2844 2846 2848 2860 2862 2864 2866 2868 2880 2882 2884 2886 2888 "
          ]
        }
      ]
    },
    {
      "cell_type": "markdown",
      "source": [
        "###`Problem 11`: A robot moves in a plane starting from the original point (0,0). The robot can move toward UP, DOWN, LEFT and RIGHT with a given steps.\n",
        "The trace of robot movement is shown as the following:\n",
        "```\n",
        "UP 5\n",
        "DOWN 3\n",
        "LEFT 3\n",
        "RIGHT 2\n",
        "!\n",
        "```\n",
        "> The numbers after the direction are steps.\n",
        "\n",
        "> `!` means robot stop there.\n",
        "\n",
        "**Please write a program to compute the distance from current position after a sequence of movement and original point.**\n",
        "\n",
        "*If the distance is a float, then just print the nearest integer.*\n",
        "\n",
        "Example:\n",
        "\n",
        "`Input`:\n",
        "```\n",
        "UP 5\n",
        "DOWN 3\n",
        "LEFT 3\n",
        "RIGHT 2\n",
        "!\n",
        "```\n",
        "`Output`:\n",
        "```\n",
        "2\n",
        "```"
      ],
      "metadata": {
        "id": "GV18IINT4mf5"
      }
    },
    {
      "cell_type": "code",
      "source": [
        "# Write code here\n",
        "\n",
        "x = 0\n",
        "y = 0\n",
        "while(True):\n",
        "  inp = input()\n",
        "\n",
        "  if(inp[:2] == \"UP\"):\n",
        "    y += int(inp[3:])\n",
        "  elif(inp[:4] == \"DOWN\"):\n",
        "    y -= int(inp[5:])\n",
        "  elif(inp[:4] == \"LEFT\"):\n",
        "    x -= int(inp[5:])\n",
        "  elif(inp[:5] == \"RIGHT\"):\n",
        "    x += int(inp[6:])\n",
        "  elif(inp == '!'):\n",
        "    break\n",
        "  else:\n",
        "    print(\"sahi input daal na mere bhai\")\n",
        "\n",
        "print(str((x**2 + y**2)**0.5)[0])"
      ],
      "metadata": {
        "id": "6UNMC2aR4w5x",
        "colab": {
          "base_uri": "https://localhost:8080/"
        },
        "outputId": "f74101e5-bcb6-4d48-e811-1ff8fc39391f"
      },
      "execution_count": 30,
      "outputs": [
        {
          "output_type": "stream",
          "name": "stdout",
          "text": [
            "UP 5\n",
            "DOWN 3\n",
            "LEFT 3\n",
            "RIGHT 2\n",
            "!\n",
            "2\n"
          ]
        }
      ]
    },
    {
      "cell_type": "markdown",
      "source": [
        "###`Problem 12`:Write a program to print whether a given number is a prime number or not"
      ],
      "metadata": {
        "id": "3fsAIAhK5GYY"
      }
    },
    {
      "cell_type": "code",
      "source": [
        "# Write code here\n",
        "from math import floor\n",
        "\n",
        "n = int(input(\"enter the number : \"))\n",
        "flag = True\n",
        "\n",
        "for i in range(2,floor(n**0.5)):\n",
        "  if(n%i == 0):\n",
        "    flag = False\n",
        "    break\n",
        "\n",
        "if(flag == True):\n",
        "  print(\"the number is prime\")\n",
        "else:\n",
        "  print(\"the number is not prime\")"
      ],
      "metadata": {
        "id": "j6y91lxy5LZs",
        "colab": {
          "base_uri": "https://localhost:8080/"
        },
        "outputId": "b3b914a5-feab-4c88-cc48-21080faa7c85"
      },
      "execution_count": null,
      "outputs": [
        {
          "output_type": "stream",
          "name": "stdout",
          "text": [
            "enter the number : 7\n",
            "the number is prime\n"
          ]
        }
      ]
    },
    {
      "cell_type": "markdown",
      "source": [
        "###`Problem 13`:Print all the Armstrong numbers in a given range.\n",
        "Range will be provided by the user<br>\n",
        "Armstrong number is a number that is equal to the sum of cubes of its digits. For example 0, 1, 153, 370, 371 and 407 are the Armstrong numbers."
      ],
      "metadata": {
        "id": "asAbmbK-5NHv"
      }
    },
    {
      "cell_type": "code",
      "source": [
        "# Write code here\n",
        "def sum(x):\n",
        "  sum = 0\n",
        "  while(x != 0):\n",
        "    sum += (x%10)**3\n",
        "    x = x//10\n",
        "  return sum\n",
        "\n",
        "n = int(input(\"enter the number : \"))\n",
        "\n",
        "for i in range(n+1):\n",
        "  if(sum(i) == i):\n",
        "    print(i,end = ' ')"
      ],
      "metadata": {
        "id": "PZuI67pm5jCT",
        "colab": {
          "base_uri": "https://localhost:8080/"
        },
        "outputId": "e36d95a8-6b7d-4910-c35e-9f969c192f0b"
      },
      "execution_count": null,
      "outputs": [
        {
          "output_type": "stream",
          "name": "stdout",
          "text": [
            "enter the number : 700\n",
            "0 1 153 370 371 407 "
          ]
        }
      ]
    },
    {
      "cell_type": "markdown",
      "source": [
        "###`Problem 14`:Calculate the angle between the hour hand and minute hand.\n",
        "\n",
        "Note: There can be two angles between hands; we need to print a minimum of two. Also, we need to print the floor of the final result angle. For example, if the final angle is 10.61, we need to print 10.\n",
        "\n",
        "Input:<br>\n",
        "H = 9 , M = 0<br>\n",
        "Output:<br>\n",
        "90<br>\n",
        "Explanation:<br>\n",
        "The minimum angle between hour and minute\n",
        "hand when the time is 9 is 90 degress."
      ],
      "metadata": {
        "id": "ClCQZMqT7gK0"
      }
    },
    {
      "cell_type": "code",
      "source": [
        "# Write code here\n",
        "from math import floor\n",
        "\n",
        "H = int(input(\"enter the hour : \"))\n",
        "M = int(input(\"enter the minutes : \"))\n",
        "\n",
        "if(H >= 12):\n",
        "  H -= 12\n",
        "\n",
        "angle_m = M*6\n",
        "angle_h = H*30 + M/2\n",
        "\n",
        "angle = abs(angle_m - floor(angle_h))\n",
        "if(angle > 180):\n",
        "  angle = 360 - angle\n",
        "print(angle)"
      ],
      "metadata": {
        "id": "tNBTCZML7jy_",
        "colab": {
          "base_uri": "https://localhost:8080/"
        },
        "outputId": "26a506c8-42ee-4249-83e0-e899436380a0"
      },
      "execution_count": null,
      "outputs": [
        {
          "output_type": "stream",
          "name": "stdout",
          "text": [
            "enter the hour : 10\n",
            "enter the minutes : 10\n",
            "115\n"
          ]
        }
      ]
    },
    {
      "cell_type": "markdown",
      "source": [
        "###`Problem 15`:Given two rectangles, find if the given two rectangles overlap or not. A rectangle is denoted by providing the x and y coordinates of two points: the left top corner and the right bottom corner of the rectangle. Two rectangles sharing a side are considered overlapping. (L1 and R1 are the extreme points of the first rectangle and L2 and R2 are the extreme points of the second rectangle).\n",
        "\n",
        "Note: It may be assumed that the rectangles are parallel to the coordinate axis.\n",
        "\n",
        "<img src='https://www.geeksforgeeks.org/wp-content/uploads/rectanglesOverlap.png' width='300' height='200'>"
      ],
      "metadata": {
        "id": "GwacF9Co72Qc"
      }
    },
    {
      "cell_type": "code",
      "source": [
        "# Write code here\n",
        "\n",
        "def func(x1,y1,x2,y2):\n",
        "  if(x2>x1 and y2>y1):\n",
        "    return True\n",
        "  else:\n",
        "    return False\n",
        "\n",
        "#rectangle 1\n",
        "l1_x = int(input(\"enter the x co-ordinate of rectangle one's l1 point :\"))\n",
        "l1_y = int(input(\"enter the y co-ordinate of rectangle one's l1 point :\"))\n",
        "\n",
        "r1_x = int(input(\"enter the x co-ordinate of rectangle one's r1 point :\"))\n",
        "r1_y = int(input(\"enter the y co-ordinate of rectangle one's r1 point :\"))\n",
        "\n",
        "#rectangle 2\n",
        "l2_x = int(input(\"enter the x co-ordinate of rectangle two's l2 point :\"))\n",
        "l2_y = int(input(\"enter the y co-ordinate of rectangle two's l2 point :\"))\n",
        "\n",
        "r2_x = int(input(\"enter the x co-ordinate of rectangle two's r2 point :\"))\n",
        "r2_y = int(input(\"enter the y co-ordinate of rectangle two's r2 point :\"))\n",
        "\n",
        "if(func(min(l2_x,r2_x),min(l2_y,r2_y),max(l1_x,r1_x),max(l1_y,r1_y))):\n",
        "  print(\"the rectangles overlap\")\n",
        "else:\n",
        "  print(\"the rectangles do not overlap\")\n",
        "\n"
      ],
      "metadata": {
        "id": "6rrw_lpH78Rs",
        "colab": {
          "base_uri": "https://localhost:8080/"
        },
        "outputId": "a3dde5b0-6f12-4aeb-db13-85a13a77898c"
      },
      "execution_count": null,
      "outputs": [
        {
          "output_type": "stream",
          "name": "stdout",
          "text": [
            "enter the x co-ordinate of rectangle one's l1 point :4\n",
            "enter the y co-ordinate of rectangle one's l1 point :0\n",
            "enter the x co-ordinate of rectangle one's r1 point :0\n",
            "enter the y co-ordinate of rectangle one's r1 point :4\n",
            "enter the x co-ordinate of rectangle two's l2 point :5\n",
            "enter the y co-ordinate of rectangle two's l2 point :1\n",
            "enter the x co-ordinate of rectangle two's r2 point :1\n",
            "enter the y co-ordinate of rectangle two's r2 point :5\n",
            "the rectangles overlap\n"
          ]
        }
      ]
    }
  ]
}